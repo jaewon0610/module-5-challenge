{
 "cells": [
  {
   "attachments": {},
   "cell_type": "markdown",
   "metadata": {},
   "source": [
    "# Pymaceuticals Inc.\n",
    "---\n",
    "\n",
    "### Analysis\n",
    "\n",
    "- Add your analysis here.\n",
    " "
   ]
  },
  {
   "cell_type": "code",
   "execution_count": 101,
   "metadata": {},
   "outputs": [
    {
     "name": "stdout",
     "output_type": "stream",
     "text": [
      "  Mouse ID Drug Regimen   Sex  Age_months  Weight (g)  Timepoint  \\\n",
      "0     k403     Ramicane  Male          21          16          0   \n",
      "1     k403     Ramicane  Male          21          16          5   \n",
      "2     k403     Ramicane  Male          21          16         10   \n",
      "3     k403     Ramicane  Male          21          16         15   \n",
      "4     k403     Ramicane  Male          21          16         20   \n",
      "\n",
      "   Tumor Volume (mm3)  Metastatic Sites  \n",
      "0           45.000000                 0  \n",
      "1           38.825898                 0  \n",
      "2           35.014271                 1  \n",
      "3           34.223992                 1  \n",
      "4           32.997729                 1  \n"
     ]
    }
   ],
   "source": [
    "# Dependencies and Setup\n",
    "import matplotlib.pyplot as plt\n",
    "import pandas as pd\n",
    "import scipy.stats as st\n",
    "\n",
    "# Study data files\n",
    "mouse_metadata_path = \"data/Mouse_metadata.csv\"\n",
    "study_results_path = \"data/Study_results.csv\"\n",
    "\n",
    "# Read the mouse data and the study results\n",
    "mouse_metadata = pd.read_csv(mouse_metadata_path)\n",
    "study_results = pd.read_csv(study_results_path)\n",
    "\n",
    "# Combine the data into a single DataFrame\n",
    "combined_data = pd.merge(mouse_metadata, study_results, on=\"Mouse ID\")\n",
    "\n",
    "# Display the data table for preview\n",
    "print(combined_data.head())"
   ]
  },
  {
   "cell_type": "code",
   "execution_count": 102,
   "metadata": {},
   "outputs": [
    {
     "name": "stdout",
     "output_type": "stream",
     "text": [
      "Number of unique mice: 249\n"
     ]
    }
   ],
   "source": [
    "# Checking the number of mice.\n",
    "unique_mice_count = combined_data['Mouse ID'].nunique()\n",
    "print(f\"Number of unique mice: {unique_mice_count}\")"
   ]
  },
  {
   "cell_type": "code",
   "execution_count": 103,
   "metadata": {},
   "outputs": [
    {
     "name": "stdout",
     "output_type": "stream",
     "text": [
      "    Mouse ID Drug Regimen     Sex  Age_months  Weight (g)  Timepoint  \\\n",
      "908     g989     Propriva  Female          21          26          0   \n",
      "909     g989     Propriva  Female          21          26          0   \n",
      "910     g989     Propriva  Female          21          26          5   \n",
      "911     g989     Propriva  Female          21          26          5   \n",
      "912     g989     Propriva  Female          21          26         10   \n",
      "913     g989     Propriva  Female          21          26         10   \n",
      "914     g989     Propriva  Female          21          26         15   \n",
      "915     g989     Propriva  Female          21          26         15   \n",
      "916     g989     Propriva  Female          21          26         20   \n",
      "917     g989     Propriva  Female          21          26         20   \n",
      "\n",
      "     Tumor Volume (mm3)  Metastatic Sites  \n",
      "908           45.000000                 0  \n",
      "909           45.000000                 0  \n",
      "910           48.786801                 0  \n",
      "911           47.570392                 0  \n",
      "912           51.745156                 0  \n",
      "913           49.880528                 0  \n",
      "914           51.325852                 1  \n",
      "915           53.442020                 0  \n",
      "916           55.326122                 1  \n",
      "917           54.657650                 1  \n"
     ]
    }
   ],
   "source": [
    "# Our data should be uniquely identified by Mouse ID and Timepoint\n",
    "# Get the duplicate mice by ID number that shows up for Mouse ID and Timepoint.\n",
    "duplicate_mice = combined_data[combined_data.duplicated(subset=['Mouse ID', 'Timepoint'], keep=False)]\n",
    "print(duplicate_mice)"
   ]
  },
  {
   "cell_type": "code",
   "execution_count": 104,
   "metadata": {},
   "outputs": [
    {
     "name": "stdout",
     "output_type": "stream",
     "text": [
      "    Mouse ID Drug Regimen     Sex  Age_months  Weight (g)  Timepoint  \\\n",
      "908     g989     Propriva  Female          21          26          0   \n",
      "909     g989     Propriva  Female          21          26          0   \n",
      "910     g989     Propriva  Female          21          26          5   \n",
      "911     g989     Propriva  Female          21          26          5   \n",
      "912     g989     Propriva  Female          21          26         10   \n",
      "913     g989     Propriva  Female          21          26         10   \n",
      "914     g989     Propriva  Female          21          26         15   \n",
      "915     g989     Propriva  Female          21          26         15   \n",
      "916     g989     Propriva  Female          21          26         20   \n",
      "917     g989     Propriva  Female          21          26         20   \n",
      "918     g989     Propriva  Female          21          26         25   \n",
      "919     g989     Propriva  Female          21          26         30   \n",
      "920     g989     Propriva  Female          21          26         35   \n",
      "\n",
      "     Tumor Volume (mm3)  Metastatic Sites  \n",
      "908           45.000000                 0  \n",
      "909           45.000000                 0  \n",
      "910           48.786801                 0  \n",
      "911           47.570392                 0  \n",
      "912           51.745156                 0  \n",
      "913           49.880528                 0  \n",
      "914           51.325852                 1  \n",
      "915           53.442020                 0  \n",
      "916           55.326122                 1  \n",
      "917           54.657650                 1  \n",
      "918           56.045564                 1  \n",
      "919           59.082294                 1  \n",
      "920           62.570880                 2  \n"
     ]
    }
   ],
   "source": [
    "# Optional: Get all the data for the duplicate mouse ID.\n",
    "duplicate_mouse_ids = duplicate_mice['Mouse ID'].unique()\n",
    "duplicate_mouse_data = combined_data[combined_data['Mouse ID'].isin(duplicate_mouse_ids)]\n",
    "print(duplicate_mouse_data)"
   ]
  },
  {
   "cell_type": "code",
   "execution_count": 105,
   "metadata": {},
   "outputs": [
    {
     "name": "stdout",
     "output_type": "stream",
     "text": [
      "     Mouse ID Drug Regimen     Sex  Age_months  Weight (g)  Timepoint  \\\n",
      "0        k403     Ramicane    Male          21          16          0   \n",
      "1        k403     Ramicane    Male          21          16          5   \n",
      "2        k403     Ramicane    Male          21          16         10   \n",
      "3        k403     Ramicane    Male          21          16         15   \n",
      "4        k403     Ramicane    Male          21          16         20   \n",
      "5        k403     Ramicane    Male          21          16         25   \n",
      "6        k403     Ramicane    Male          21          16         30   \n",
      "7        k403     Ramicane    Male          21          16         35   \n",
      "8        k403     Ramicane    Male          21          16         40   \n",
      "9        k403     Ramicane    Male          21          16         45   \n",
      "10       s185    Capomulin  Female           3          17          0   \n",
      "11       s185    Capomulin  Female           3          17          5   \n",
      "12       s185    Capomulin  Female           3          17         10   \n",
      "13       s185    Capomulin  Female           3          17         15   \n",
      "14       s185    Capomulin  Female           3          17         20   \n",
      "15       s185    Capomulin  Female           3          17         25   \n",
      "16       s185    Capomulin  Female           3          17         30   \n",
      "17       s185    Capomulin  Female           3          17         35   \n",
      "18       s185    Capomulin  Female           3          17         40   \n",
      "19       s185    Capomulin  Female           3          17         45   \n",
      "20       x401    Capomulin  Female          16          15          0   \n",
      "21       x401    Capomulin  Female          16          15          5   \n",
      "22       x401    Capomulin  Female          16          15         10   \n",
      "23       x401    Capomulin  Female          16          15         15   \n",
      "24       x401    Capomulin  Female          16          15         20   \n",
      "25       x401    Capomulin  Female          16          15         25   \n",
      "26       x401    Capomulin  Female          16          15         30   \n",
      "27       x401    Capomulin  Female          16          15         35   \n",
      "28       x401    Capomulin  Female          16          15         40   \n",
      "29       x401    Capomulin  Female          16          15         45   \n",
      "...       ...          ...     ...         ...         ...        ...   \n",
      "1863     z581    Infubinol  Female          24          25          0   \n",
      "1864     z581    Infubinol  Female          24          25          5   \n",
      "1865     z581    Infubinol  Female          24          25         10   \n",
      "1866     z581    Infubinol  Female          24          25         15   \n",
      "1867     z581    Infubinol  Female          24          25         20   \n",
      "1868     z581    Infubinol  Female          24          25         25   \n",
      "1869     z581    Infubinol  Female          24          25         30   \n",
      "1870     z581    Infubinol  Female          24          25         35   \n",
      "1871     z581    Infubinol  Female          24          25         40   \n",
      "1872     z581    Infubinol  Female          24          25         45   \n",
      "1873     z795     Naftisol  Female          13          29          0   \n",
      "1874     z795     Naftisol  Female          13          29          5   \n",
      "1875     z795     Naftisol  Female          13          29         10   \n",
      "1876     z795     Naftisol  Female          13          29         15   \n",
      "1877     z795     Naftisol  Female          13          29         20   \n",
      "1878     z795     Naftisol  Female          13          29         25   \n",
      "1879     z795     Naftisol  Female          13          29         30   \n",
      "1880     z795     Naftisol  Female          13          29         35   \n",
      "1881     z795     Naftisol  Female          13          29         40   \n",
      "1882     z795     Naftisol  Female          13          29         45   \n",
      "1883     z969     Naftisol    Male           9          30          0   \n",
      "1884     z969     Naftisol    Male           9          30          5   \n",
      "1885     z969     Naftisol    Male           9          30         10   \n",
      "1886     z969     Naftisol    Male           9          30         15   \n",
      "1887     z969     Naftisol    Male           9          30         20   \n",
      "1888     z969     Naftisol    Male           9          30         25   \n",
      "1889     z969     Naftisol    Male           9          30         30   \n",
      "1890     z969     Naftisol    Male           9          30         35   \n",
      "1891     z969     Naftisol    Male           9          30         40   \n",
      "1892     z969     Naftisol    Male           9          30         45   \n",
      "\n",
      "      Tumor Volume (mm3)  Metastatic Sites  \n",
      "0              45.000000                 0  \n",
      "1              38.825898                 0  \n",
      "2              35.014271                 1  \n",
      "3              34.223992                 1  \n",
      "4              32.997729                 1  \n",
      "5              33.464577                 1  \n",
      "6              31.099498                 1  \n",
      "7              26.546993                 1  \n",
      "8              24.365505                 1  \n",
      "9              22.050126                 1  \n",
      "10             45.000000                 0  \n",
      "11             43.878496                 0  \n",
      "12             37.614948                 0  \n",
      "13             38.177232                 0  \n",
      "14             36.866876                 0  \n",
      "15             33.949940                 0  \n",
      "16             32.959671                 1  \n",
      "17             28.328531                 1  \n",
      "18             25.472143                 1  \n",
      "19             23.343598                 1  \n",
      "20             45.000000                 0  \n",
      "21             45.473753                 0  \n",
      "22             39.113891                 0  \n",
      "23             39.776250                 0  \n",
      "24             36.065835                 0  \n",
      "25             36.617120                 0  \n",
      "26             32.915292                 0  \n",
      "27             30.206825                 0  \n",
      "28             28.167397                 0  \n",
      "29             28.484033                 0  \n",
      "...                  ...               ...  \n",
      "1863           45.000000                 0  \n",
      "1864           49.273092                 1  \n",
      "1865           50.478750                 2  \n",
      "1866           51.196304                 2  \n",
      "1867           51.807944                 2  \n",
      "1868           54.316407                 2  \n",
      "1869           56.286750                 2  \n",
      "1870           58.628399                 3  \n",
      "1871           60.053740                 3  \n",
      "1872           62.754451                 3  \n",
      "1873           45.000000                 0  \n",
      "1874           46.833475                 0  \n",
      "1875           48.030804                 0  \n",
      "1876           49.368132                 1  \n",
      "1877           53.280657                 1  \n",
      "1878           57.947100                 2  \n",
      "1879           59.789636                 2  \n",
      "1880           60.435654                 2  \n",
      "1881           62.376639                 3  \n",
      "1882           65.741070                 3  \n",
      "1883           45.000000                 0  \n",
      "1884           49.332999                 0  \n",
      "1885           52.656081                 1  \n",
      "1886           54.713005                 2  \n",
      "1887           57.898778                 2  \n",
      "1888           63.145652                 2  \n",
      "1889           65.841013                 3  \n",
      "1890           69.176246                 4  \n",
      "1891           70.314904                 4  \n",
      "1892           73.867845                 4  \n",
      "\n",
      "[1888 rows x 8 columns]\n"
     ]
    }
   ],
   "source": [
    "# Create a clean DataFrame by dropping the duplicate mouse by its ID.\n",
    "clean_data = combined_data.drop_duplicates(subset=['Mouse ID', 'Timepoint'])\n",
    "print(clean_data)"
   ]
  },
  {
   "cell_type": "code",
   "execution_count": 106,
   "metadata": {},
   "outputs": [
    {
     "name": "stdout",
     "output_type": "stream",
     "text": [
      "Number of unique mice in the clean DataFrame: 249\n"
     ]
    }
   ],
   "source": [
    "# Checking the number of mice in the clean DataFrame.\n",
    "unique_mice_count_clean = clean_data['Mouse ID'].nunique()\n",
    "print(f\"Number of unique mice in the clean DataFrame: {unique_mice_count_clean}\")"
   ]
  },
  {
   "cell_type": "markdown",
   "metadata": {},
   "source": [
    "## Summary Statistics"
   ]
  },
  {
   "cell_type": "code",
   "execution_count": 107,
   "metadata": {},
   "outputs": [],
   "source": [
    "def calculate_sem(x):\n",
    "    return st.sem(x)"
   ]
  },
  {
   "cell_type": "code",
   "execution_count": 111,
   "metadata": {},
   "outputs": [
    {
     "name": "stdout",
     "output_type": "stream",
     "text": [
      "  Drug Regimen       Mean     Median   Variance  Standard Deviation       SEM\n",
      "0    Capomulin  40.675741  41.557809  24.947764            4.994774  0.329346\n",
      "1     Ceftamin  52.591172  51.776157  39.290177            6.268188  0.469821\n",
      "2    Infubinol  52.884795  51.820584  43.128684            6.567243  0.492236\n",
      "3     Ketapril  55.235638  53.698743  68.553577            8.279709  0.603860\n",
      "4     Naftisol  54.331565  52.509285  66.173479            8.134708  0.596466\n",
      "5      Placebo  54.033581  52.288934  61.168083            7.821003  0.581331\n",
      "6     Propriva  52.393463  50.909965  43.138803            6.568014  0.525862\n",
      "7     Ramicane  40.216745  40.673236  23.486704            4.846308  0.320955\n",
      "8     Stelasyn  54.233149  52.431737  59.450562            7.710419  0.573111\n",
      "9    Zoniferol  53.236507  51.818479  48.533355            6.966589  0.516398\n"
     ]
    }
   ],
   "source": [
    "# Generate a summary statistics table of mean, median, variance, standard deviation, and SEM of the tumor volume for each regimen\n",
    "\n",
    "# Use groupby and summary statistical methods to calculate the following properties of each drug regimen:\n",
    "# mean, median, variance, standard deviation, and SEM of the tumor volume.\n",
    "# Assemble the resulting series into a single summary DataFrame.\n",
    "mean = clean_data.groupby('Drug Regimen')['Tumor Volume (mm3)'].mean()\n",
    "median = clean_data.groupby('Drug Regimen')['Tumor Volume (mm3)'].median()\n",
    "variance = clean_data.groupby('Drug Regimen')['Tumor Volume (mm3)'].var()\n",
    "std_dev = clean_data.groupby('Drug Regimen')['Tumor Volume (mm3)'].std()\n",
    "sem = clean_data.groupby('Drug Regimen')['Tumor Volume (mm3)'].apply(st.sem)\n",
    "\n",
    "summary_stats = pd.DataFrame({\n",
    "    'Drug Regimen': mean.index,\n",
    "    'Mean': mean.values,\n",
    "    'Median': median.values,\n",
    "    'Variance': variance.values,\n",
    "    'Standard Deviation': std_dev.values,\n",
    "    'SEM': sem.values\n",
    "})\n",
    "\n",
    "print(summary_stats)"
   ]
  },
  {
   "cell_type": "code",
   "execution_count": 127,
   "metadata": {},
   "outputs": [
    {
     "ename": "TypeError",
     "evalue": "aggregate() missing 1 required positional argument: 'func_or_funcs'",
     "output_type": "error",
     "traceback": [
      "\u001b[0;31m---------------------------------------------------------------------------\u001b[0m",
      "\u001b[0;31mTypeError\u001b[0m                                 Traceback (most recent call last)",
      "\u001b[0;32m<ipython-input-127-4dc6a7a388f4>\u001b[0m in \u001b[0;36m<module>\u001b[0;34m\u001b[0m\n\u001b[1;32m      8\u001b[0m     \u001b[0mVariance\u001b[0m\u001b[0;34m=\u001b[0m\u001b[0;34m'var'\u001b[0m\u001b[0;34m,\u001b[0m\u001b[0;34m\u001b[0m\u001b[0;34m\u001b[0m\u001b[0m\n\u001b[1;32m      9\u001b[0m     \u001b[0mStandard_Deviation\u001b[0m\u001b[0;34m=\u001b[0m\u001b[0;34m'std'\u001b[0m\u001b[0;34m,\u001b[0m\u001b[0;34m\u001b[0m\u001b[0;34m\u001b[0m\u001b[0m\n\u001b[0;32m---> 10\u001b[0;31m     \u001b[0mSEM\u001b[0m\u001b[0;34m=\u001b[0m\u001b[0mcalculate_sem\u001b[0m\u001b[0;34m\u001b[0m\u001b[0;34m\u001b[0m\u001b[0m\n\u001b[0m\u001b[1;32m     11\u001b[0m ).reset_index()\n\u001b[1;32m     12\u001b[0m \u001b[0mprint\u001b[0m\u001b[0;34m(\u001b[0m\u001b[0msummary_stats\u001b[0m\u001b[0;34m)\u001b[0m\u001b[0;34m\u001b[0m\u001b[0;34m\u001b[0m\u001b[0m\n",
      "\u001b[0;31mTypeError\u001b[0m: aggregate() missing 1 required positional argument: 'func_or_funcs'"
     ]
    }
   ],
   "source": [
    "# A more advanced method to generate a summary statistics table of mean, median, variance, standard deviation,\n",
    "# and SEM of the tumor volume for each regimen (only one method is required in the solution)\n",
    "\n",
    "# Using the aggregation method, produce the same summary statistics in a single line\n",
    "summary_stats = clean_data.groupby('Drug Regimen')['Tumor Volume (mm3)'].agg(\n",
    "    Mean='mean',\n",
    "    Median='median',\n",
    "    Variance='var',\n",
    "    Standard_Deviation='std',\n",
    "    SEM=calculate_sem\n",
    ").reset_index()\n",
    "print(summary_stats)"
   ]
  },
  {
   "cell_type": "markdown",
   "metadata": {},
   "source": [
    "## Bar and Pie Charts"
   ]
  },
  {
   "cell_type": "code",
   "execution_count": 128,
   "metadata": {},
   "outputs": [
    {
     "data": {
      "image/png": "[encoded data removed]",
      "text/plain": [
       "<Figure size 720x432 with 1 Axes>"
      ]
     },
     "metadata": {
      "needs_background": "light"
     },
     "output_type": "display_data"
    }
   ],
   "source": [
    "# Generate a bar plot showing the total number of rows (Mouse ID/Timepoints) for each drug regimen using Pandas.\n",
    "counts = clean_data['Drug Regimen'].value_counts()\n",
    "counts.plot(kind='bar', figsize=(10, 6), color='skyblue', edgecolor='black')\n",
    "plt.title('Total Number of Rows for Each Drug Regimen', fontsize=16)\n",
    "plt.xlabel('Drug Regimen', fontsize=12)\n",
    "plt.ylabel('Number of Rows (Mouse ID/Timepoints)', fontsize=12)\n",
    "plt.xticks(rotation=45)\n",
    "plt.tight_layout()  # Adjust layout to make room for labels\n",
    "plt.show()"
   ]
  },
  {
   "cell_type": "code",
   "execution_count": 138,
   "metadata": {},
   "outputs": [
    {
     "data": {
      "image/png": "[encoded data removed]",
      "text/plain": [
       "<Figure size 720x432 with 1 Axes>"
      ]
     },
     "metadata": {
      "needs_background": "light"
     },
     "output_type": "display_data"
    }
   ],
   "source": [
    "# Generate a bar plot showing the total number of rows (Mouse ID/Timepoints) for each drug regimen using pyplot.\n",
    "counts = clean_data['Drug Regimen'].value_counts()\n",
    "plt.figure(figsize=(10, 6))\n",
    "plt.bar(counts.index, counts.values, color='skyblue', edgecolor='black')\n",
    "plt.title('Total Number of Rows for Each Drug Regimen', fontsize=16)\n",
    "plt.xlabel('Drug Regimen', fontsize=12)\n",
    "plt.ylabel('Number of Rows (Mouse ID/Timepoints)', fontsize=12)\n",
    "plt.xticks(rotation=45)\n",
    "plt.tight_layout()  # Adjust layout to make room for labels\n",
    "plt.show()"
   ]
  },
  {
   "cell_type": "code",
   "execution_count": 167,
   "metadata": {},
   "outputs": [
    {
     "data": {
      "image/png": "[encoded data removed]",
      "text/plain": [
       "<Figure size 432x432 with 1 Axes>"
      ]
     },
     "metadata": {},
     "output_type": "display_data"
    },
    {
     "name": "stdout",
     "output_type": "stream",
     "text": [
      "     Mouse ID     Sex\n",
      "0        k403    Male\n",
      "10       s185  Female\n",
      "20       x401  Female\n",
      "30       m601    Male\n",
      "40       g791    Male\n",
      "50       s508    Male\n",
      "60       f966    Male\n",
      "65       m546    Male\n",
      "75       z578    Male\n",
      "85       j913  Female\n",
      "95       u364    Male\n",
      "105      n364    Male\n",
      "115      y793    Male\n",
      "125      r554  Female\n",
      "135      m957  Female\n",
      "145      c758    Male\n",
      "155      t565  Female\n",
      "165      a644  Female\n",
      "175      i177    Male\n",
      "185      j989    Male\n",
      "195      i738  Female\n",
      "205      a520    Male\n",
      "215      w914    Male\n",
      "225      r811    Male\n",
      "235      g288    Male\n",
      "245      i334  Female\n",
      "255      q610  Female\n",
      "263      d251  Female\n",
      "273      l897    Male\n",
      "283      c458  Female\n",
      "...       ...     ...\n",
      "1684     w350    Male\n",
      "1694     w422  Female\n",
      "1704     w540  Female\n",
      "1710     w575  Female\n",
      "1720     w584    Male\n",
      "1727     w697  Female\n",
      "1735     w746    Male\n",
      "1737     x111  Female\n",
      "1740     x209  Female\n",
      "1743     x226    Male\n",
      "1744     x264  Female\n",
      "1753     x336  Female\n",
      "1754     x402    Male\n",
      "1764     x581  Female\n",
      "1774     x613  Female\n",
      "1778     x773  Female\n",
      "1788     x822    Male\n",
      "1798     x930    Male\n",
      "1804     y163  Female\n",
      "1814     y260  Female\n",
      "1824     y478  Female\n",
      "1834     y601  Female\n",
      "1836     y769  Female\n",
      "1846     y865    Male\n",
      "1856     z234  Female\n",
      "1858     z314  Female\n",
      "1860     z435  Female\n",
      "1863     z581  Female\n",
      "1873     z795  Female\n",
      "1883     z969    Male\n",
      "\n",
      "[249 rows x 2 columns]\n"
     ]
    }
   ],
   "source": [
    "# Generate a pie chart, using Pandas, showing the distribution of unique female versus male mice used in the study\n",
    "gender_counts = clean_data['Sex'].value_counts()\n",
    "gender_counts.plot(kind='pie', autopct='%1.1f%%', title='Distribution of Female vs Male Mice', figsize=(6, 6), labels=gender_counts.index)\n",
    "plt.show()\n",
    "\n",
    "# Get the unique mice with their gender\n",
    "unique_mice = clean_data[['Mouse ID', 'Sex']].drop_duplicates()\n",
    "print(unique_mice)\n",
    "\n",
    "# Make the pie chart\n"
   ]
  },
  {
   "cell_type": "code",
   "execution_count": 175,
   "metadata": {},
   "outputs": [
    {
     "data": {
      "image/png": "[encoded data removed]",
      "text/plain": [
       "<Figure size 432x432 with 1 Axes>"
      ]
     },
     "metadata": {},
     "output_type": "display_data"
    }
   ],
   "source": [
    "# Generate a pie chart, using pyplot, showing the distribution of unique female versus male mice used in the study\n",
    "# Get the unique mice with their gender\n",
    "\n",
    "unique_mice = clean_data[['Mouse ID', 'Sex']].drop_duplicates()\n",
    "gender_counts = unique_mice['Sex'].value_counts()\n",
    "plt.figure(figsize=(6, 6))\n",
    "plt.pie(gender_counts, \n",
    "        labels=gender_counts.index, \n",
    "        autopct='%1.1f%%', \n",
    "        startangle=90, \n",
    "        colors=['lightblue', 'lightcoral'])\n",
    "plt.title('Distribution of Unique Female vs Male Mice')\n",
    "plt.axis('equal')  # Equal aspect ratio ensures that pie is drawn as a circle.\n",
    "plt.show()\n",
    "\n",
    "# Make the pie chart\n"
   ]
  },
  {
   "cell_type": "markdown",
   "metadata": {},
   "source": [
    "## Quartiles, Outliers and Boxplots"
   ]
  },
  {
   "cell_type": "code",
   "execution_count": 182,
   "metadata": {},
   "outputs": [
    {
     "name": "stdout",
     "output_type": "stream",
     "text": [
      "    Mouse ID Drug Regimen  Timepoint  Tumor Volume (mm3)\n",
      "0       a203    Infubinol         45           67.973419\n",
      "1       a251    Infubinol         45           65.525743\n",
      "3       a275     Ceftamin         45           62.999356\n",
      "6       a411     Ramicane         45           38.407618\n",
      "7       a444     Ramicane         45           43.047543\n",
      "10      a520     Ramicane         45           38.810366\n",
      "11      a577    Infubinol         30           57.031862\n",
      "12      a644     Ramicane         45           32.978522\n",
      "13      a685    Infubinol         45           66.083066\n",
      "19      b128    Capomulin         45           38.982878\n",
      "21      b447     Ceftamin          0           45.000000\n",
      "22      b487     Ceftamin         25           56.057749\n",
      "24      b742    Capomulin         45           38.939633\n",
      "25      b759     Ceftamin         30           55.742829\n",
      "27      c139    Infubinol         45           72.226731\n",
      "31      c326    Infubinol          5           36.321346\n",
      "33      c458     Ramicane         30           38.342008\n",
      "37      c758     Ramicane         45           33.397653\n",
      "41      c895    Infubinol         30           60.969711\n",
      "45      d251     Ramicane         45           37.311236\n",
      "50      e476    Infubinol         45           62.435404\n",
      "52      e662     Ramicane         45           40.659006\n",
      "56      f345    Infubinol         45           60.918767\n",
      "58      f436     Ceftamin         15           48.722078\n",
      "61      f966    Capomulin         20           30.485985\n",
      "64      g288    Capomulin         45           37.074024\n",
      "66      g316    Capomulin         45           40.159220\n",
      "70      g791     Ramicane         45           29.128472\n",
      "76      h531     Ceftamin          5           47.784682\n",
      "77      i177     Ramicane         45           33.562402\n",
      "..       ...          ...        ...                 ...\n",
      "175     s185    Capomulin         45           23.343598\n",
      "178     s508     Ramicane         45           30.276232\n",
      "181     s710    Capomulin         45           40.728578\n",
      "184     t565    Capomulin         45           34.455298\n",
      "185     t573     Ceftamin          0           45.000000\n",
      "189     u149     Ceftamin         25           52.925348\n",
      "190     u153     Ceftamin          0           45.000000\n",
      "191     u196     Ramicane         45           40.667713\n",
      "193     u364    Capomulin         45           31.023923\n",
      "198     v339    Infubinol          5           46.250112\n",
      "201     v719    Infubinol         20           54.048608\n",
      "203     v766    Infubinol         15           51.542431\n",
      "205     v923    Capomulin         45           40.658124\n",
      "209     w150    Capomulin         10           39.952347\n",
      "210     w151     Ceftamin         45           67.527482\n",
      "212     w193    Infubinol         20           50.005138\n",
      "217     w584    Infubinol         30           58.268442\n",
      "218     w678     Ramicane          5           43.166373\n",
      "221     w914    Capomulin         45           36.041047\n",
      "224     x226     Ceftamin          0           45.000000\n",
      "227     x401    Capomulin         45           28.484033\n",
      "229     x581     Ceftamin         45           64.634949\n",
      "232     x822     Ceftamin         45           61.386660\n",
      "234     y163    Infubinol         45           67.685569\n",
      "236     y449     Ramicane         15           44.183451\n",
      "239     y769     Ceftamin         45           68.594745\n",
      "240     y793    Capomulin         45           31.896238\n",
      "241     y865     Ceftamin         45           64.729837\n",
      "245     z578     Ramicane         45           30.638696\n",
      "246     z581    Infubinol         45           62.754451\n",
      "\n",
      "[100 rows x 4 columns]\n"
     ]
    }
   ],
   "source": [
    "# Calculate the final tumor volume of each mouse across four of the treatment regimens:\n",
    "# Capomulin, Ramicane, Infubinol, and Ceftamin\n",
    "# Start by getting the last (greatest) timepoint for each mouse\n",
    "# Merge this group df with the original DataFrame to get the tumor volume at the last timepoint\n",
    "last_timepoint_df = clean_data.groupby('Mouse ID')['Timepoint'].max().reset_index()\n",
    "final_tumor_volume_df = pd.merge(last_timepoint_df, clean_data, on=['Mouse ID', 'Timepoint'])\n",
    "final_tumor_volume_df = final_tumor_volume_df[final_tumor_volume_df['Drug Regimen'].isin(['Capomulin', 'Ramicane', 'Infubinol', 'Ceftamin'])]\n",
    "print(final_tumor_volume_df[['Mouse ID', 'Drug Regimen', 'Timepoint', 'Tumor Volume (mm3)']])\n",
    "\n"
   ]
  },
  {
   "cell_type": "code",
   "execution_count": 190,
   "metadata": {},
   "outputs": [
    {
     "ename": "ValueError",
     "evalue": "Lengths must match to compare",
     "output_type": "error",
     "traceback": [
      "\u001b[0;31m---------------------------------------------------------------------------\u001b[0m",
      "\u001b[0;31mValueError\u001b[0m                                Traceback (most recent call last)",
      "\u001b[0;32m<ipython-input-190-ec395fb38024>\u001b[0m in \u001b[0;36m<module>\u001b[0;34m\u001b[0m\n\u001b[1;32m      9\u001b[0m \u001b[0;34m\u001b[0m\u001b[0m\n\u001b[1;32m     10\u001b[0m     \u001b[0;31m# Locate the rows which contain mice on each drug and get the tumor volumes\u001b[0m\u001b[0;34m\u001b[0m\u001b[0;34m\u001b[0m\u001b[0;34m\u001b[0m\u001b[0m\n\u001b[0;32m---> 11\u001b[0;31m \u001b[0msubset\u001b[0m \u001b[0;34m=\u001b[0m \u001b[0mfinal_tumor_volume_df\u001b[0m\u001b[0;34m[\u001b[0m\u001b[0mfinal_tumor_volume_df\u001b[0m\u001b[0;34m[\u001b[0m\u001b[0;34m'Drug Regimen'\u001b[0m\u001b[0;34m]\u001b[0m \u001b[0;34m==\u001b[0m \u001b[0mtreatments\u001b[0m\u001b[0;34m]\u001b[0m\u001b[0;34m[\u001b[0m\u001b[0;34m'Tumor Volume (mm3)'\u001b[0m\u001b[0;34m]\u001b[0m\u001b[0;34m\u001b[0m\u001b[0;34m\u001b[0m\u001b[0m\n\u001b[0m\u001b[1;32m     12\u001b[0m \u001b[0;34m\u001b[0m\u001b[0m\n\u001b[1;32m     13\u001b[0m     \u001b[0;31m# add subset\u001b[0m\u001b[0;34m\u001b[0m\u001b[0;34m\u001b[0m\u001b[0;34m\u001b[0m\u001b[0m\n",
      "\u001b[0;32m~/anaconda3/lib/python3.7/site-packages/pandas/core/ops.py\u001b[0m in \u001b[0;36mwrapper\u001b[0;34m(self, other, axis)\u001b[0m\n\u001b[1;32m   1743\u001b[0m             \u001b[0;31m# as it will broadcast\u001b[0m\u001b[0;34m\u001b[0m\u001b[0;34m\u001b[0m\u001b[0;34m\u001b[0m\u001b[0m\n\u001b[1;32m   1744\u001b[0m             \u001b[0;32mif\u001b[0m \u001b[0mother\u001b[0m\u001b[0;34m.\u001b[0m\u001b[0mndim\u001b[0m \u001b[0;34m!=\u001b[0m \u001b[0;36m0\u001b[0m \u001b[0;32mand\u001b[0m \u001b[0mlen\u001b[0m\u001b[0;34m(\u001b[0m\u001b[0mself\u001b[0m\u001b[0;34m)\u001b[0m \u001b[0;34m!=\u001b[0m \u001b[0mlen\u001b[0m\u001b[0;34m(\u001b[0m\u001b[0mother\u001b[0m\u001b[0;34m)\u001b[0m\u001b[0;34m:\u001b[0m\u001b[0;34m\u001b[0m\u001b[0;34m\u001b[0m\u001b[0m\n\u001b[0;32m-> 1745\u001b[0;31m                 \u001b[0;32mraise\u001b[0m \u001b[0mValueError\u001b[0m\u001b[0;34m(\u001b[0m\u001b[0;34m'Lengths must match to compare'\u001b[0m\u001b[0;34m)\u001b[0m\u001b[0;34m\u001b[0m\u001b[0;34m\u001b[0m\u001b[0m\n\u001b[0m\u001b[1;32m   1746\u001b[0m \u001b[0;34m\u001b[0m\u001b[0m\n\u001b[1;32m   1747\u001b[0m             \u001b[0mres_values\u001b[0m \u001b[0;34m=\u001b[0m \u001b[0mna_op\u001b[0m\u001b[0;34m(\u001b[0m\u001b[0mself\u001b[0m\u001b[0;34m.\u001b[0m\u001b[0mvalues\u001b[0m\u001b[0;34m,\u001b[0m \u001b[0mnp\u001b[0m\u001b[0;34m.\u001b[0m\u001b[0masarray\u001b[0m\u001b[0;34m(\u001b[0m\u001b[0mother\u001b[0m\u001b[0;34m)\u001b[0m\u001b[0;34m)\u001b[0m\u001b[0;34m\u001b[0m\u001b[0;34m\u001b[0m\u001b[0m\n",
      "\u001b[0;31mValueError\u001b[0m: Lengths must match to compare"
     ]
    }
   ],
   "source": [
    "# Put treatments into a list for for loop (and later for plot labels)\n",
    "treatments = ['Capomulin', 'Ramicane', 'Infubinol', 'Ceftamin']\n",
    "\n",
    "# Create empty list to fill with tumor vol data (for plotting)\n",
    "tumor_vol_data = []\n",
    "\n",
    "# Calculate the IQR and quantitatively determine if there are any potential outliers.\n",
    "\n",
    "\n",
    "    # Locate the rows which contain mice on each drug and get the tumor volumes\n",
    "subset = final_tumor_volume_df[final_tumor_volume_df['Drug Regimen'] == treatments]['Tumor Volume (mm3)']\n",
    "\n",
    "    # add subset\n",
    "tumor_vol_data.append(subset)\n",
    "\n",
    "    # Determine outliers using upper and lower bounds\n",
    "Q1 = subset.quantile(0.25)\n",
    "Q3 = subset.quantile(0.75)\n",
    "IQR = Q3 - Q1\n",
    "lower_bound = Q1 - 1.5 * IQR\n",
    "upper_bound = Q3 + 1.5 * IQR\n",
    "outliers = subset[(subset < lower_bound) | (subset > upper_bound)]\n",
    "print(f\"{treatments} - Potential Outliers: {outliers.values}, Lower Bound: {lower_bound}, Upper Bound: {upper_bound}\")"
   ]
  },
  {
   "cell_type": "code",
   "execution_count": null,
   "metadata": {},
   "outputs": [],
   "source": [
    "# Generate a box plot that shows the distribution of the tumor volume for each treatment group.\n"
   ]
  },
  {
   "cell_type": "markdown",
   "metadata": {},
   "source": [
    "## Line and Scatter Plots"
   ]
  },
  {
   "cell_type": "code",
   "execution_count": null,
   "metadata": {},
   "outputs": [],
   "source": [
    "# Generate a line plot of tumor volume vs. time point for a single mouse treated with Capomulin\n"
   ]
  },
  {
   "cell_type": "code",
   "execution_count": null,
   "metadata": {},
   "outputs": [],
   "source": [
    "# Generate a scatter plot of mouse weight vs. the average observed tumor volume for the entire Capomulin regimen\n"
   ]
  },
  {
   "cell_type": "markdown",
   "metadata": {},
   "source": [
    "## Correlation and Regression"
   ]
  },
  {
   "cell_type": "code",
   "execution_count": null,
   "metadata": {},
   "outputs": [],
   "source": [
    "# Calculate the correlation coefficient and a linear regression model\n",
    "# for mouse weight and average observed tumor volume for the entire Capomulin regimen\n"
   ]
  },
  {
   "cell_type": "code",
   "execution_count": null,
   "metadata": {},
   "outputs": [],
   "source": []
  }
 ],
 "metadata": {
  "anaconda-cloud": {},
  "kernelspec": {
   "display_name": "Python 3",
   "language": "python",
   "name": "python3"
  },
  "language_info": {
   "codemirror_mode": {
    "name": "ipython",
    "version": 3
   },
   "file_extension": ".py",
   "mimetype": "text/x-python",
   "name": "python",
   "nbconvert_exporter": "python",
   "pygments_lexer": "ipython3",
   "version": "3.7.3"
  }
 },
 "nbformat": 4,
 "nbformat_minor": 4
}
